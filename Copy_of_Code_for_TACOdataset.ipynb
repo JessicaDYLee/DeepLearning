{
  "cells": [
    {
      "cell_type": "markdown",
      "metadata": {
        "id": "view-in-github",
        "colab_type": "text"
      },
      "source": [
        "<a href=\"https://colab.research.google.com/github/JessicaDYLee/DeepLearning/blob/main/Copy_of_Code_for_TACOdataset.ipynb\" target=\"_parent\"><img src=\"https://colab.research.google.com/assets/colab-badge.svg\" alt=\"Open In Colab\"/></a>"
      ]
    },
    {
      "cell_type": "code",
      "execution_count": null,
      "id": "83456ed8",
      "metadata": {
        "id": "83456ed8"
      },
      "outputs": [],
      "source": [
        "### Libraries\n"
      ]
    },
    {
      "cell_type": "code",
      "execution_count": null,
      "id": "4a3ec9a8",
      "metadata": {
        "id": "4a3ec9a8"
      },
      "outputs": [],
      "source": [
        "# Import modules\n",
        "# Add modules as needed\n",
        "from sklearn.model_selection import train_test_split\n",
        "\n",
        "# For windows laptops add following 2 lines:\n",
        "# import matplotlib\n",
        "# matplotlib.use('agg')\n",
        "\n",
        "import matplotlib.pyplot as plt\n",
        "import numpy as np\n",
        "import pandas as pd\n",
        "import seaborn as sns\n",
        "import os\n",
        "import PIL\n",
        "import json\n",
        "import glob\n",
        "\n",
        "import tensorflow as tf\n",
        "import tensorflow_hub as hub\n",
        "\n",
        "import tensorflow.keras as keras\n",
        "from tensorflow.keras.models import Sequential\n",
        "from tensorflow.keras.layers import Dense, Dropout\n",
        "import tensorflow.keras as keras\n",
        "\n",
        "from IPython.core.interactiveshell import InteractiveShell\n",
        "InteractiveShell.ast_node_interactivity = \"all\""
      ]
    },
    {
      "cell_type": "code",
      "source": [
        "from google.colab import drive\n",
        "drive.mount('/content/drive')"
      ],
      "metadata": {
        "id": "W3iHoq7qTSsl",
        "outputId": "906ab6df-faf8-488c-9171-6cbe06e0d0d5",
        "colab": {
          "base_uri": "https://localhost:8080/"
        }
      },
      "id": "W3iHoq7qTSsl",
      "execution_count": null,
      "outputs": [
        {
          "output_type": "stream",
          "name": "stdout",
          "text": [
            "Mounted at /content/drive\n"
          ]
        }
      ]
    },
    {
      "cell_type": "code",
      "execution_count": null,
      "id": "d3894a34",
      "metadata": {
        "id": "d3894a34",
        "outputId": "752055ce-9f6a-47d4-d819-77a1ce93bed2",
        "colab": {
          "base_uri": "https://localhost:8080/"
        }
      },
      "outputs": [
        {
          "output_type": "execute_result",
          "data": {
            "text/plain": [
              "1500"
            ]
          },
          "metadata": {},
          "execution_count": 3
        }
      ],
      "source": [
        "### Data preparation\n",
        "#### Import data\n",
        "\n",
        "dir_path = '/content/drive/MyDrive/MMAI_894/TACO_Dataset/data'\n",
        "img_list = glob.glob(os.path.join(dir_path, '*/*.*'))\n",
        "len(img_list)"
      ]
    },
    {
      "cell_type": "code",
      "source": [
        "img_list[0]"
      ],
      "metadata": {
        "id": "WgWwx-bELSYN",
        "outputId": "30e12b53-48ef-436f-b32a-a3d22e2b04e1",
        "colab": {
          "base_uri": "https://localhost:8080/",
          "height": 35
        }
      },
      "id": "WgWwx-bELSYN",
      "execution_count": null,
      "outputs": [
        {
          "output_type": "execute_result",
          "data": {
            "application/vnd.google.colaboratory.intrinsic+json": {
              "type": "string"
            },
            "text/plain": [
              "'/content/drive/MyDrive/MMAI_894/TACO_Dataset/data/batch_7/000000.JPG'"
            ]
          },
          "metadata": {},
          "execution_count": 4
        }
      ]
    },
    {
      "cell_type": "code",
      "source": [
        ""
      ],
      "metadata": {
        "id": "obS6z7SBK3WJ"
      },
      "id": "obS6z7SBK3WJ",
      "execution_count": null,
      "outputs": []
    },
    {
      "cell_type": "markdown",
      "source": [
        "Data Visualization"
      ],
      "metadata": {
        "id": "Cu1YFEIDh9Ce"
      },
      "id": "Cu1YFEIDh9Ce"
    },
    {
      "cell_type": "code",
      "source": [
        "meta_df=pd.read_csv(\"/content/drive/MyDrive/MMAI_894/TACO_Dataset/meta_df.csv\")"
      ],
      "metadata": {
        "id": "QoADVC23h6yd"
      },
      "id": "QoADVC23h6yd",
      "execution_count": null,
      "outputs": []
    },
    {
      "cell_type": "code",
      "source": [
        "meta_df"
      ],
      "metadata": {
        "id": "Qwfkmjt-ky97",
        "outputId": "e3463731-7516-4e83-a848-9e7a62d39f5c",
        "colab": {
          "base_uri": "https://localhost:8080/",
          "height": 424
        }
      },
      "id": "Qwfkmjt-ky97",
      "execution_count": null,
      "outputs": [
        {
          "output_type": "execute_result",
          "data": {
            "text/html": [
              "\n",
              "  <div id=\"df-5f3b8089-04ef-4487-97bd-4f475bc83b99\">\n",
              "    <div class=\"colab-df-container\">\n",
              "      <div>\n",
              "<style scoped>\n",
              "    .dataframe tbody tr th:only-of-type {\n",
              "        vertical-align: middle;\n",
              "    }\n",
              "\n",
              "    .dataframe tbody tr th {\n",
              "        vertical-align: top;\n",
              "    }\n",
              "\n",
              "    .dataframe thead th {\n",
              "        text-align: right;\n",
              "    }\n",
              "</style>\n",
              "<table border=\"1\" class=\"dataframe\">\n",
              "  <thead>\n",
              "    <tr style=\"text-align: right;\">\n",
              "      <th></th>\n",
              "      <th>img_id</th>\n",
              "      <th>img_width</th>\n",
              "      <th>img_height</th>\n",
              "      <th>img_file</th>\n",
              "      <th>cat_id</th>\n",
              "      <th>cat_name</th>\n",
              "      <th>supercategory</th>\n",
              "      <th>ann_id</th>\n",
              "      <th>x</th>\n",
              "      <th>y</th>\n",
              "      <th>width</th>\n",
              "      <th>height</th>\n",
              "      <th>area</th>\n",
              "    </tr>\n",
              "  </thead>\n",
              "  <tbody>\n",
              "    <tr>\n",
              "      <th>0</th>\n",
              "      <td>0</td>\n",
              "      <td>1537</td>\n",
              "      <td>2049</td>\n",
              "      <td>batch_1/000006.jpg</td>\n",
              "      <td>6</td>\n",
              "      <td>Glass bottle</td>\n",
              "      <td>Bottle</td>\n",
              "      <td>1</td>\n",
              "      <td>517.0000</td>\n",
              "      <td>127.0000</td>\n",
              "      <td>447.0000</td>\n",
              "      <td>1322.0</td>\n",
              "      <td>4.039540e+05</td>\n",
              "    </tr>\n",
              "    <tr>\n",
              "      <th>1</th>\n",
              "      <td>1</td>\n",
              "      <td>1537</td>\n",
              "      <td>2049</td>\n",
              "      <td>batch_1/000008.jpg</td>\n",
              "      <td>18</td>\n",
              "      <td>Meal carton</td>\n",
              "      <td>Carton</td>\n",
              "      <td>2</td>\n",
              "      <td>1.0000</td>\n",
              "      <td>457.0000</td>\n",
              "      <td>1429.0000</td>\n",
              "      <td>1519.0</td>\n",
              "      <td>1.071260e+06</td>\n",
              "    </tr>\n",
              "    <tr>\n",
              "      <th>2</th>\n",
              "      <td>1</td>\n",
              "      <td>1537</td>\n",
              "      <td>2049</td>\n",
              "      <td>batch_1/000008.jpg</td>\n",
              "      <td>14</td>\n",
              "      <td>Other carton</td>\n",
              "      <td>Carton</td>\n",
              "      <td>3</td>\n",
              "      <td>531.0000</td>\n",
              "      <td>292.0000</td>\n",
              "      <td>1006.0000</td>\n",
              "      <td>672.0</td>\n",
              "      <td>9.958350e+04</td>\n",
              "    </tr>\n",
              "    <tr>\n",
              "      <th>3</th>\n",
              "      <td>2</td>\n",
              "      <td>1537</td>\n",
              "      <td>2049</td>\n",
              "      <td>batch_1/000010.jpg</td>\n",
              "      <td>5</td>\n",
              "      <td>Clear plastic bottle</td>\n",
              "      <td>Bottle</td>\n",
              "      <td>4</td>\n",
              "      <td>632.0000</td>\n",
              "      <td>987.0000</td>\n",
              "      <td>500.0000</td>\n",
              "      <td>374.0</td>\n",
              "      <td>7.383250e+04</td>\n",
              "    </tr>\n",
              "    <tr>\n",
              "      <th>4</th>\n",
              "      <td>2</td>\n",
              "      <td>1537</td>\n",
              "      <td>2049</td>\n",
              "      <td>batch_1/000010.jpg</td>\n",
              "      <td>7</td>\n",
              "      <td>Plastic bottle cap</td>\n",
              "      <td>Bottle cap</td>\n",
              "      <td>5</td>\n",
              "      <td>632.0000</td>\n",
              "      <td>989.0000</td>\n",
              "      <td>44.0000</td>\n",
              "      <td>51.0</td>\n",
              "      <td>9.150000e+02</td>\n",
              "    </tr>\n",
              "    <tr>\n",
              "      <th>...</th>\n",
              "      <td>...</td>\n",
              "      <td>...</td>\n",
              "      <td>...</td>\n",
              "      <td>...</td>\n",
              "      <td>...</td>\n",
              "      <td>...</td>\n",
              "      <td>...</td>\n",
              "      <td>...</td>\n",
              "      <td>...</td>\n",
              "      <td>...</td>\n",
              "      <td>...</td>\n",
              "      <td>...</td>\n",
              "      <td>...</td>\n",
              "    </tr>\n",
              "    <tr>\n",
              "      <th>4779</th>\n",
              "      <td>1498</td>\n",
              "      <td>1824</td>\n",
              "      <td>4000</td>\n",
              "      <td>batch_9/000098.jpg</td>\n",
              "      <td>16</td>\n",
              "      <td>Drink carton</td>\n",
              "      <td>Carton</td>\n",
              "      <td>4779</td>\n",
              "      <td>228.7143</td>\n",
              "      <td>1550.0476</td>\n",
              "      <td>1007.9999</td>\n",
              "      <td>579.0</td>\n",
              "      <td>5.032469e+05</td>\n",
              "    </tr>\n",
              "    <tr>\n",
              "      <th>4780</th>\n",
              "      <td>1498</td>\n",
              "      <td>1824</td>\n",
              "      <td>4000</td>\n",
              "      <td>batch_9/000098.jpg</td>\n",
              "      <td>7</td>\n",
              "      <td>Plastic bottle cap</td>\n",
              "      <td>Bottle cap</td>\n",
              "      <td>4780</td>\n",
              "      <td>1041.3334</td>\n",
              "      <td>1721.7142</td>\n",
              "      <td>141.0000</td>\n",
              "      <td>138.0</td>\n",
              "      <td>1.449450e+04</td>\n",
              "    </tr>\n",
              "    <tr>\n",
              "      <th>4781</th>\n",
              "      <td>1499</td>\n",
              "      <td>1824</td>\n",
              "      <td>4000</td>\n",
              "      <td>batch_9/000099.jpg</td>\n",
              "      <td>39</td>\n",
              "      <td>Other plastic wrapper</td>\n",
              "      <td>Plastic bag &amp; wrapper</td>\n",
              "      <td>4781</td>\n",
              "      <td>862.0274</td>\n",
              "      <td>1331.2500</td>\n",
              "      <td>505.9726</td>\n",
              "      <td>612.5</td>\n",
              "      <td>1.549541e+05</td>\n",
              "    </tr>\n",
              "    <tr>\n",
              "      <th>4782</th>\n",
              "      <td>1499</td>\n",
              "      <td>1824</td>\n",
              "      <td>4000</td>\n",
              "      <td>batch_9/000099.jpg</td>\n",
              "      <td>14</td>\n",
              "      <td>Other carton</td>\n",
              "      <td>Carton</td>\n",
              "      <td>4782</td>\n",
              "      <td>966.0000</td>\n",
              "      <td>1996.0000</td>\n",
              "      <td>211.0000</td>\n",
              "      <td>336.0</td>\n",
              "      <td>2.867500e+04</td>\n",
              "    </tr>\n",
              "    <tr>\n",
              "      <th>4783</th>\n",
              "      <td>1499</td>\n",
              "      <td>1824</td>\n",
              "      <td>4000</td>\n",
              "      <td>batch_9/000099.jpg</td>\n",
              "      <td>6</td>\n",
              "      <td>Glass bottle</td>\n",
              "      <td>Bottle</td>\n",
              "      <td>4783</td>\n",
              "      <td>1125.0000</td>\n",
              "      <td>1858.0000</td>\n",
              "      <td>234.0000</td>\n",
              "      <td>510.0</td>\n",
              "      <td>6.858950e+04</td>\n",
              "    </tr>\n",
              "  </tbody>\n",
              "</table>\n",
              "<p>4784 rows × 13 columns</p>\n",
              "</div>\n",
              "      <button class=\"colab-df-convert\" onclick=\"convertToInteractive('df-5f3b8089-04ef-4487-97bd-4f475bc83b99')\"\n",
              "              title=\"Convert this dataframe to an interactive table.\"\n",
              "              style=\"display:none;\">\n",
              "        \n",
              "  <svg xmlns=\"http://www.w3.org/2000/svg\" height=\"24px\"viewBox=\"0 0 24 24\"\n",
              "       width=\"24px\">\n",
              "    <path d=\"M0 0h24v24H0V0z\" fill=\"none\"/>\n",
              "    <path d=\"M18.56 5.44l.94 2.06.94-2.06 2.06-.94-2.06-.94-.94-2.06-.94 2.06-2.06.94zm-11 1L8.5 8.5l.94-2.06 2.06-.94-2.06-.94L8.5 2.5l-.94 2.06-2.06.94zm10 10l.94 2.06.94-2.06 2.06-.94-2.06-.94-.94-2.06-.94 2.06-2.06.94z\"/><path d=\"M17.41 7.96l-1.37-1.37c-.4-.4-.92-.59-1.43-.59-.52 0-1.04.2-1.43.59L10.3 9.45l-7.72 7.72c-.78.78-.78 2.05 0 2.83L4 21.41c.39.39.9.59 1.41.59.51 0 1.02-.2 1.41-.59l7.78-7.78 2.81-2.81c.8-.78.8-2.07 0-2.86zM5.41 20L4 18.59l7.72-7.72 1.47 1.35L5.41 20z\"/>\n",
              "  </svg>\n",
              "      </button>\n",
              "      \n",
              "  <style>\n",
              "    .colab-df-container {\n",
              "      display:flex;\n",
              "      flex-wrap:wrap;\n",
              "      gap: 12px;\n",
              "    }\n",
              "\n",
              "    .colab-df-convert {\n",
              "      background-color: #E8F0FE;\n",
              "      border: none;\n",
              "      border-radius: 50%;\n",
              "      cursor: pointer;\n",
              "      display: none;\n",
              "      fill: #1967D2;\n",
              "      height: 32px;\n",
              "      padding: 0 0 0 0;\n",
              "      width: 32px;\n",
              "    }\n",
              "\n",
              "    .colab-df-convert:hover {\n",
              "      background-color: #E2EBFA;\n",
              "      box-shadow: 0px 1px 2px rgba(60, 64, 67, 0.3), 0px 1px 3px 1px rgba(60, 64, 67, 0.15);\n",
              "      fill: #174EA6;\n",
              "    }\n",
              "\n",
              "    [theme=dark] .colab-df-convert {\n",
              "      background-color: #3B4455;\n",
              "      fill: #D2E3FC;\n",
              "    }\n",
              "\n",
              "    [theme=dark] .colab-df-convert:hover {\n",
              "      background-color: #434B5C;\n",
              "      box-shadow: 0px 1px 3px 1px rgba(0, 0, 0, 0.15);\n",
              "      filter: drop-shadow(0px 1px 2px rgba(0, 0, 0, 0.3));\n",
              "      fill: #FFFFFF;\n",
              "    }\n",
              "  </style>\n",
              "\n",
              "      <script>\n",
              "        const buttonEl =\n",
              "          document.querySelector('#df-5f3b8089-04ef-4487-97bd-4f475bc83b99 button.colab-df-convert');\n",
              "        buttonEl.style.display =\n",
              "          google.colab.kernel.accessAllowed ? 'block' : 'none';\n",
              "\n",
              "        async function convertToInteractive(key) {\n",
              "          const element = document.querySelector('#df-5f3b8089-04ef-4487-97bd-4f475bc83b99');\n",
              "          const dataTable =\n",
              "            await google.colab.kernel.invokeFunction('convertToInteractive',\n",
              "                                                     [key], {});\n",
              "          if (!dataTable) return;\n",
              "\n",
              "          const docLinkHtml = 'Like what you see? Visit the ' +\n",
              "            '<a target=\"_blank\" href=https://colab.research.google.com/notebooks/data_table.ipynb>data table notebook</a>'\n",
              "            + ' to learn more about interactive tables.';\n",
              "          element.innerHTML = '';\n",
              "          dataTable['output_type'] = 'display_data';\n",
              "          await google.colab.output.renderOutput(dataTable, element);\n",
              "          const docLink = document.createElement('div');\n",
              "          docLink.innerHTML = docLinkHtml;\n",
              "          element.appendChild(docLink);\n",
              "        }\n",
              "      </script>\n",
              "    </div>\n",
              "  </div>\n",
              "  "
            ],
            "text/plain": [
              "      img_id  img_width  img_height            img_file  cat_id  \\\n",
              "0          0       1537        2049  batch_1/000006.jpg       6   \n",
              "1          1       1537        2049  batch_1/000008.jpg      18   \n",
              "2          1       1537        2049  batch_1/000008.jpg      14   \n",
              "3          2       1537        2049  batch_1/000010.jpg       5   \n",
              "4          2       1537        2049  batch_1/000010.jpg       7   \n",
              "...      ...        ...         ...                 ...     ...   \n",
              "4779    1498       1824        4000  batch_9/000098.jpg      16   \n",
              "4780    1498       1824        4000  batch_9/000098.jpg       7   \n",
              "4781    1499       1824        4000  batch_9/000099.jpg      39   \n",
              "4782    1499       1824        4000  batch_9/000099.jpg      14   \n",
              "4783    1499       1824        4000  batch_9/000099.jpg       6   \n",
              "\n",
              "                   cat_name          supercategory  ann_id          x  \\\n",
              "0              Glass bottle                 Bottle       1   517.0000   \n",
              "1               Meal carton                 Carton       2     1.0000   \n",
              "2              Other carton                 Carton       3   531.0000   \n",
              "3      Clear plastic bottle                 Bottle       4   632.0000   \n",
              "4        Plastic bottle cap             Bottle cap       5   632.0000   \n",
              "...                     ...                    ...     ...        ...   \n",
              "4779           Drink carton                 Carton    4779   228.7143   \n",
              "4780     Plastic bottle cap             Bottle cap    4780  1041.3334   \n",
              "4781  Other plastic wrapper  Plastic bag & wrapper    4781   862.0274   \n",
              "4782           Other carton                 Carton    4782   966.0000   \n",
              "4783           Glass bottle                 Bottle    4783  1125.0000   \n",
              "\n",
              "              y      width  height          area  \n",
              "0      127.0000   447.0000  1322.0  4.039540e+05  \n",
              "1      457.0000  1429.0000  1519.0  1.071260e+06  \n",
              "2      292.0000  1006.0000   672.0  9.958350e+04  \n",
              "3      987.0000   500.0000   374.0  7.383250e+04  \n",
              "4      989.0000    44.0000    51.0  9.150000e+02  \n",
              "...         ...        ...     ...           ...  \n",
              "4779  1550.0476  1007.9999   579.0  5.032469e+05  \n",
              "4780  1721.7142   141.0000   138.0  1.449450e+04  \n",
              "4781  1331.2500   505.9726   612.5  1.549541e+05  \n",
              "4782  1996.0000   211.0000   336.0  2.867500e+04  \n",
              "4783  1858.0000   234.0000   510.0  6.858950e+04  \n",
              "\n",
              "[4784 rows x 13 columns]"
            ]
          },
          "metadata": {},
          "execution_count": 18
        }
      ]
    },
    {
      "cell_type": "code",
      "source": [
        "dir_path = '/content/drive/MyDrive/MMAI_894/TACO_Dataset/data'\n",
        "img_list = glob.glob(os.path.join(dir_path, '*/*.*'))\n",
        "len(img_list)"
      ],
      "metadata": {
        "id": "vjcrOOVI5DT0",
        "outputId": "28101f0c-a74b-456f-b220-719dfd851dc4",
        "colab": {
          "base_uri": "https://localhost:8080/"
        }
      },
      "id": "vjcrOOVI5DT0",
      "execution_count": null,
      "outputs": [
        {
          "output_type": "execute_result",
          "data": {
            "text/plain": [
              "1500"
            ]
          },
          "metadata": {},
          "execution_count": 30
        }
      ]
    },
    {
      "cell_type": "code",
      "source": [
        "for row in meta_df:\n",
        "  img_file"
      ],
      "metadata": {
        "id": "LeRL5NxX5Dko"
      },
      "id": "LeRL5NxX5Dko",
      "execution_count": null,
      "outputs": []
    },
    {
      "cell_type": "code",
      "source": [
        "import pandas as pd\n",
        "from keras.preprocessing.image import ImageDataGenerator\n",
        "\n",
        "datagen = ImageDataGenerator()\n",
        "\n",
        "\n",
        "train_generator = datagen.flow_from_dataframe(dataframe=meta_df,\n",
        "                                              directory=\"/content/drive/MyDrive/MMAI_894/TACO_Dataset/data\",\n",
        "                                              x_col='img_file',\n",
        "                                              class_mode='categorical',\n",
        "                                              y_col=[\"supercategory\",\"cat_name\"])"
      ],
      "metadata": {
        "id": "FPx9Yi_e2u4V",
        "outputId": "eb6406b9-e6a9-47af-f366-0ef98943a7ed",
        "colab": {
          "base_uri": "https://localhost:8080/",
          "height": 346
        }
      },
      "id": "FPx9Yi_e2u4V",
      "execution_count": null,
      "outputs": [
        {
          "output_type": "error",
          "ename": "TypeError",
          "evalue": "ignored",
          "traceback": [
            "\u001b[0;31m---------------------------------------------------------------------------\u001b[0m",
            "\u001b[0;31mTypeError\u001b[0m                                 Traceback (most recent call last)",
            "\u001b[0;32m<ipython-input-38-f9be7dde1f6a>\u001b[0m in \u001b[0;36m<module>\u001b[0;34m()\u001b[0m\n\u001b[1;32m      9\u001b[0m                                               \u001b[0mx_col\u001b[0m\u001b[0;34m=\u001b[0m\u001b[0;34m'img_file'\u001b[0m\u001b[0;34m,\u001b[0m\u001b[0;34m\u001b[0m\u001b[0;34m\u001b[0m\u001b[0m\n\u001b[1;32m     10\u001b[0m                                               \u001b[0mclass_mode\u001b[0m\u001b[0;34m=\u001b[0m\u001b[0;34m'categorical'\u001b[0m\u001b[0;34m,\u001b[0m\u001b[0;34m\u001b[0m\u001b[0;34m\u001b[0m\u001b[0m\n\u001b[0;32m---> 11\u001b[0;31m                                               y_col=[\"supercategory\",\"cat_name\"])\n\u001b[0m",
            "\u001b[0;32m/usr/local/lib/python3.7/dist-packages/keras/preprocessing/image.py\u001b[0m in \u001b[0;36mflow_from_dataframe\u001b[0;34m(self, dataframe, directory, x_col, y_col, weight_col, target_size, color_mode, classes, class_mode, batch_size, shuffle, seed, save_to_dir, save_prefix, save_format, subset, interpolation, validate_filenames, **kwargs)\u001b[0m\n\u001b[1;32m   1135\u001b[0m         \u001b[0msubset\u001b[0m\u001b[0;34m=\u001b[0m\u001b[0msubset\u001b[0m\u001b[0;34m,\u001b[0m\u001b[0;34m\u001b[0m\u001b[0;34m\u001b[0m\u001b[0m\n\u001b[1;32m   1136\u001b[0m         \u001b[0minterpolation\u001b[0m\u001b[0;34m=\u001b[0m\u001b[0minterpolation\u001b[0m\u001b[0;34m,\u001b[0m\u001b[0;34m\u001b[0m\u001b[0;34m\u001b[0m\u001b[0m\n\u001b[0;32m-> 1137\u001b[0;31m         validate_filenames=validate_filenames)\n\u001b[0m\u001b[1;32m   1138\u001b[0m \u001b[0;34m\u001b[0m\u001b[0m\n\u001b[1;32m   1139\u001b[0m \u001b[0;34m\u001b[0m\u001b[0m\n",
            "\u001b[0;32m/usr/local/lib/python3.7/dist-packages/keras/preprocessing/image.py\u001b[0m in \u001b[0;36m__init__\u001b[0;34m(self, dataframe, directory, image_data_generator, x_col, y_col, weight_col, target_size, color_mode, classes, class_mode, batch_size, shuffle, seed, data_format, save_to_dir, save_prefix, save_format, subset, interpolation, dtype, validate_filenames)\u001b[0m\n\u001b[1;32m    590\u001b[0m         \u001b[0minterpolation\u001b[0m\u001b[0;34m=\u001b[0m\u001b[0minterpolation\u001b[0m\u001b[0;34m,\u001b[0m\u001b[0;34m\u001b[0m\u001b[0;34m\u001b[0m\u001b[0m\n\u001b[1;32m    591\u001b[0m         \u001b[0mdtype\u001b[0m\u001b[0;34m=\u001b[0m\u001b[0mdtype\u001b[0m\u001b[0;34m,\u001b[0m\u001b[0;34m\u001b[0m\u001b[0;34m\u001b[0m\u001b[0m\n\u001b[0;32m--> 592\u001b[0;31m         \u001b[0mvalidate_filenames\u001b[0m\u001b[0;34m=\u001b[0m\u001b[0mvalidate_filenames\u001b[0m\u001b[0;34m\u001b[0m\u001b[0;34m\u001b[0m\u001b[0m\n\u001b[0m\u001b[1;32m    593\u001b[0m     )\n\u001b[1;32m    594\u001b[0m \u001b[0;34m\u001b[0m\u001b[0m\n",
            "\u001b[0;32m/usr/local/lib/python3.7/dist-packages/keras_preprocessing/image/dataframe_iterator.py\u001b[0m in \u001b[0;36m__init__\u001b[0;34m(self, dataframe, directory, image_data_generator, x_col, y_col, weight_col, target_size, color_mode, classes, class_mode, batch_size, shuffle, seed, data_format, save_to_dir, save_prefix, save_format, subset, interpolation, dtype, validate_filenames)\u001b[0m\n\u001b[1;32m    136\u001b[0m         \u001b[0mself\u001b[0m\u001b[0;34m.\u001b[0m\u001b[0mdtype\u001b[0m \u001b[0;34m=\u001b[0m \u001b[0mdtype\u001b[0m\u001b[0;34m\u001b[0m\u001b[0;34m\u001b[0m\u001b[0m\n\u001b[1;32m    137\u001b[0m         \u001b[0;31m# check that inputs match the required class_mode\u001b[0m\u001b[0;34m\u001b[0m\u001b[0;34m\u001b[0m\u001b[0;34m\u001b[0m\u001b[0m\n\u001b[0;32m--> 138\u001b[0;31m         \u001b[0mself\u001b[0m\u001b[0;34m.\u001b[0m\u001b[0m_check_params\u001b[0m\u001b[0;34m(\u001b[0m\u001b[0mdf\u001b[0m\u001b[0;34m,\u001b[0m \u001b[0mx_col\u001b[0m\u001b[0;34m,\u001b[0m \u001b[0my_col\u001b[0m\u001b[0;34m,\u001b[0m \u001b[0mweight_col\u001b[0m\u001b[0;34m,\u001b[0m \u001b[0mclasses\u001b[0m\u001b[0;34m)\u001b[0m\u001b[0;34m\u001b[0m\u001b[0;34m\u001b[0m\u001b[0m\n\u001b[0m\u001b[1;32m    139\u001b[0m         \u001b[0;32mif\u001b[0m \u001b[0mvalidate_filenames\u001b[0m\u001b[0;34m:\u001b[0m  \u001b[0;31m# check which image files are valid and keep them\u001b[0m\u001b[0;34m\u001b[0m\u001b[0;34m\u001b[0m\u001b[0m\n\u001b[1;32m    140\u001b[0m             \u001b[0mdf\u001b[0m \u001b[0;34m=\u001b[0m \u001b[0mself\u001b[0m\u001b[0;34m.\u001b[0m\u001b[0m_filter_valid_filepaths\u001b[0m\u001b[0;34m(\u001b[0m\u001b[0mdf\u001b[0m\u001b[0;34m,\u001b[0m \u001b[0mx_col\u001b[0m\u001b[0;34m)\u001b[0m\u001b[0;34m\u001b[0m\u001b[0;34m\u001b[0m\u001b[0m\n",
            "\u001b[0;32m/usr/local/lib/python3.7/dist-packages/keras_preprocessing/image/dataframe_iterator.py\u001b[0m in \u001b[0;36m_check_params\u001b[0;34m(self, df, x_col, y_col, weight_col, classes)\u001b[0m\n\u001b[1;32m    214\u001b[0m                 raise TypeError('If class_mode=\"{}\", y_col=\"{}\" column '\n\u001b[1;32m    215\u001b[0m                                 \u001b[0;34m'values must be type string, list or tuple.'\u001b[0m\u001b[0;34m\u001b[0m\u001b[0;34m\u001b[0m\u001b[0m\n\u001b[0;32m--> 216\u001b[0;31m                                 .format(self.class_mode, y_col))\n\u001b[0m\u001b[1;32m    217\u001b[0m         \u001b[0;31m# raise warning if classes are given but will be unused\u001b[0m\u001b[0;34m\u001b[0m\u001b[0;34m\u001b[0m\u001b[0;34m\u001b[0m\u001b[0m\n\u001b[1;32m    218\u001b[0m         \u001b[0;32mif\u001b[0m \u001b[0mclasses\u001b[0m \u001b[0;32mand\u001b[0m \u001b[0mself\u001b[0m\u001b[0;34m.\u001b[0m\u001b[0mclass_mode\u001b[0m \u001b[0;32min\u001b[0m \u001b[0;34m{\u001b[0m\u001b[0;34m\"input\"\u001b[0m\u001b[0;34m,\u001b[0m \u001b[0;34m\"multi_output\"\u001b[0m\u001b[0;34m,\u001b[0m \u001b[0;34m\"raw\"\u001b[0m\u001b[0;34m,\u001b[0m \u001b[0;32mNone\u001b[0m\u001b[0;34m}\u001b[0m\u001b[0;34m:\u001b[0m\u001b[0;34m\u001b[0m\u001b[0;34m\u001b[0m\u001b[0m\n",
            "\u001b[0;31mTypeError\u001b[0m: If class_mode=\"categorical\", y_col=\"['supercategory', 'cat_name']\" column values must be type string, list or tuple."
          ]
        }
      ]
    },
    {
      "cell_type": "code",
      "source": [
        "train_generator"
      ],
      "metadata": {
        "id": "uvWNTDH33hhg",
        "outputId": "2463d6d7-5458-443f-c544-f57eee81f20e",
        "colab": {
          "base_uri": "https://localhost:8080/"
        }
      },
      "id": "uvWNTDH33hhg",
      "execution_count": null,
      "outputs": [
        {
          "output_type": "execute_result",
          "data": {
            "text/plain": [
              "<keras.preprocessing.image.DataFrameIterator at 0x7fcd42512b10>"
            ]
          },
          "metadata": {},
          "execution_count": 32
        }
      ]
    },
    {
      "cell_type": "code",
      "source": [
        ""
      ],
      "metadata": {
        "id": "_DEd-81M2vDy"
      },
      "id": "_DEd-81M2vDy",
      "execution_count": null,
      "outputs": []
    },
    {
      "cell_type": "code",
      "source": [
        ""
      ],
      "metadata": {
        "id": "E86--nr_2vNw"
      },
      "id": "E86--nr_2vNw",
      "execution_count": null,
      "outputs": []
    },
    {
      "cell_type": "code",
      "source": [
        "dataset_path = '/content/drive/MyDrive/MMAI_894/TACO_Dataset/data'\n",
        "anns_file_path = dataset_path + '/' + 'annotations.json'\n",
        "\n",
        "# Read annotations\n",
        "with open(anns_file_path, 'r') as f:\n",
        "    dataset = json.loads(f.read())\n",
        "\n",
        "categories = dataset['categories']\n",
        "anns = dataset['annotations']\n",
        "imgs = dataset['images']\n",
        "nr_cats = len(categories)\n",
        "nr_annotations = len(anns)\n",
        "nr_images = len(imgs)\n",
        "\n",
        "# Load categories and super categories\n",
        "cat_names = []\n",
        "super_cat_names = []\n",
        "super_cat_ids = {}\n",
        "super_cat_last_name = ''\n",
        "nr_super_cats = 0\n",
        "for cat_it in categories:\n",
        "    cat_names.append(cat_it['name'])\n",
        "    super_cat_name = cat_it['supercategory']\n",
        "    # Adding new supercat\n",
        "    if super_cat_name != super_cat_last_name:\n",
        "        super_cat_names.append(super_cat_name)\n",
        "        super_cat_ids[super_cat_name] = nr_super_cats\n",
        "        super_cat_last_name = super_cat_name\n",
        "        nr_super_cats += 1\n"
      ],
      "metadata": {
        "id": "ChU1NcpovO5q"
      },
      "id": "ChU1NcpovO5q",
      "execution_count": null,
      "outputs": []
    },
    {
      "cell_type": "code",
      "source": [
        "categories = []\n"
      ],
      "metadata": {
        "id": "7lZqeLOA2V22"
      },
      "id": "7lZqeLOA2V22",
      "execution_count": null,
      "outputs": []
    },
    {
      "cell_type": "code",
      "source": [
        "# Count annotations\n",
        "cat_histogram = np.zeros(nr_cats,dtype=int)\n",
        "for ann in anns:\n",
        "    cat_histogram[ann['category_id']] += 1\n",
        "\n",
        "# Initialize the matplotlib figure\n",
        "f, ax = plt.subplots(figsize=(5,15))\n",
        "\n",
        "# Convert to DataFrame\n",
        "df = pd.DataFrame({'Categories': cat_names, 'Number of annotations': cat_histogram})\n",
        "df = df.sort_values('Number of annotations', 0, False)\n",
        "\n",
        "# Plot the histogram\n",
        "# sns.set_color_codes(\"pastel\")\n",
        "# sns.set(style=\"whitegrid\")\n",
        "plot_1 = sns.barplot(x=\"Number of annotations\", y=\"Categories\", data=df,\n",
        "            label=\"Total\", color=\"b\")\n",
        "\n",
        "# fig = plot_1.get_figure()\n",
        "# fig.savefig(\"output.png\")"
      ],
      "metadata": {
        "id": "mOq0qvD5vO9R",
        "outputId": "da2862ad-9570-4037-fdab-71cda2ea7f3e",
        "colab": {
          "base_uri": "https://localhost:8080/",
          "height": 932
        }
      },
      "id": "mOq0qvD5vO9R",
      "execution_count": null,
      "outputs": [
        {
          "output_type": "stream",
          "name": "stderr",
          "text": [
            "/usr/local/lib/python3.7/dist-packages/ipykernel_launcher.py:11: FutureWarning: In a future version of pandas all arguments of DataFrame.sort_values except for the argument 'by' will be keyword-only\n",
            "  # This is added back by InteractiveShellApp.init_path()\n"
          ]
        },
        {
          "output_type": "display_data",
          "data": {
            "image/png": "[encoded data removed]",
            "text/plain": [
              "<Figure size 360x1080 with 1 Axes>"
            ]
          },
          "metadata": {
            "needs_background": "light"
          }
        }
      ]
    },
    {
      "cell_type": "code",
      "source": [
        ""
      ],
      "metadata": {
        "id": "-D60FWsivPAc"
      },
      "id": "-D60FWsivPAc",
      "execution_count": null,
      "outputs": []
    },
    {
      "cell_type": "code",
      "source": [
        "meta_df.describe().T"
      ],
      "metadata": {
        "id": "TN5lC6KRlNXa",
        "outputId": "674d8242-4ed2-4759-dd3d-a918524718b8",
        "colab": {
          "base_uri": "https://localhost:8080/",
          "height": 363
        }
      },
      "id": "TN5lC6KRlNXa",
      "execution_count": null,
      "outputs": [
        {
          "output_type": "execute_result",
          "data": {
            "text/html": [
              "\n",
              "  <div id=\"df-de628618-fc63-422d-ba23-f60388be33c0\">\n",
              "    <div class=\"colab-df-container\">\n",
              "      <div>\n",
              "<style scoped>\n",
              "    .dataframe tbody tr th:only-of-type {\n",
              "        vertical-align: middle;\n",
              "    }\n",
              "\n",
              "    .dataframe tbody tr th {\n",
              "        vertical-align: top;\n",
              "    }\n",
              "\n",
              "    .dataframe thead th {\n",
              "        text-align: right;\n",
              "    }\n",
              "</style>\n",
              "<table border=\"1\" class=\"dataframe\">\n",
              "  <thead>\n",
              "    <tr style=\"text-align: right;\">\n",
              "      <th></th>\n",
              "      <th>count</th>\n",
              "      <th>mean</th>\n",
              "      <th>std</th>\n",
              "      <th>min</th>\n",
              "      <th>25%</th>\n",
              "      <th>50%</th>\n",
              "      <th>75%</th>\n",
              "      <th>max</th>\n",
              "    </tr>\n",
              "  </thead>\n",
              "  <tbody>\n",
              "    <tr>\n",
              "      <th>img_id</th>\n",
              "      <td>4784.0</td>\n",
              "      <td>756.936037</td>\n",
              "      <td>445.884396</td>\n",
              "      <td>0.000000</td>\n",
              "      <td>354.75</td>\n",
              "      <td>743.00</td>\n",
              "      <td>1154.000</td>\n",
              "      <td>1499.0</td>\n",
              "    </tr>\n",
              "    <tr>\n",
              "      <th>img_width</th>\n",
              "      <td>4784.0</td>\n",
              "      <td>2794.278428</td>\n",
              "      <td>714.851079</td>\n",
              "      <td>842.000000</td>\n",
              "      <td>2448.00</td>\n",
              "      <td>2448.00</td>\n",
              "      <td>3264.000</td>\n",
              "      <td>6000.0</td>\n",
              "    </tr>\n",
              "    <tr>\n",
              "      <th>img_height</th>\n",
              "      <td>4784.0</td>\n",
              "      <td>3234.358278</td>\n",
              "      <td>837.244672</td>\n",
              "      <td>474.000000</td>\n",
              "      <td>2448.00</td>\n",
              "      <td>3264.00</td>\n",
              "      <td>4000.000</td>\n",
              "      <td>5312.0</td>\n",
              "    </tr>\n",
              "    <tr>\n",
              "      <th>cat_id</th>\n",
              "      <td>4784.0</td>\n",
              "      <td>34.079013</td>\n",
              "      <td>20.081707</td>\n",
              "      <td>0.000000</td>\n",
              "      <td>12.00</td>\n",
              "      <td>36.00</td>\n",
              "      <td>57.000</td>\n",
              "      <td>59.0</td>\n",
              "    </tr>\n",
              "    <tr>\n",
              "      <th>ann_id</th>\n",
              "      <td>4784.0</td>\n",
              "      <td>2391.949833</td>\n",
              "      <td>1381.264283</td>\n",
              "      <td>1.000000</td>\n",
              "      <td>1195.75</td>\n",
              "      <td>2392.50</td>\n",
              "      <td>3588.250</td>\n",
              "      <td>4783.0</td>\n",
              "    </tr>\n",
              "    <tr>\n",
              "      <th>x</th>\n",
              "      <td>4784.0</td>\n",
              "      <td>1232.285117</td>\n",
              "      <td>703.739763</td>\n",
              "      <td>-1.000000</td>\n",
              "      <td>741.60</td>\n",
              "      <td>1150.00</td>\n",
              "      <td>1612.000</td>\n",
              "      <td>5573.0</td>\n",
              "    </tr>\n",
              "    <tr>\n",
              "      <th>y</th>\n",
              "      <td>4784.0</td>\n",
              "      <td>1485.067894</td>\n",
              "      <td>826.005410</td>\n",
              "      <td>-1.316667</td>\n",
              "      <td>892.75</td>\n",
              "      <td>1414.00</td>\n",
              "      <td>1961.250</td>\n",
              "      <td>5208.0</td>\n",
              "    </tr>\n",
              "    <tr>\n",
              "      <th>width</th>\n",
              "      <td>4784.0</td>\n",
              "      <td>331.434419</td>\n",
              "      <td>440.431739</td>\n",
              "      <td>10.000000</td>\n",
              "      <td>68.00</td>\n",
              "      <td>179.50</td>\n",
              "      <td>405.250</td>\n",
              "      <td>3758.0</td>\n",
              "    </tr>\n",
              "    <tr>\n",
              "      <th>height</th>\n",
              "      <td>4784.0</td>\n",
              "      <td>320.246833</td>\n",
              "      <td>442.046602</td>\n",
              "      <td>4.000000</td>\n",
              "      <td>62.00</td>\n",
              "      <td>159.00</td>\n",
              "      <td>387.000</td>\n",
              "      <td>3995.0</td>\n",
              "    </tr>\n",
              "    <tr>\n",
              "      <th>area</th>\n",
              "      <td>4784.0</td>\n",
              "      <td>150407.154132</td>\n",
              "      <td>485084.750277</td>\n",
              "      <td>55.500000</td>\n",
              "      <td>2142.00</td>\n",
              "      <td>14244.75</td>\n",
              "      <td>75333.125</td>\n",
              "      <td>7328035.5</td>\n",
              "    </tr>\n",
              "  </tbody>\n",
              "</table>\n",
              "</div>\n",
              "      <button class=\"colab-df-convert\" onclick=\"convertToInteractive('df-de628618-fc63-422d-ba23-f60388be33c0')\"\n",
              "              title=\"Convert this dataframe to an interactive table.\"\n",
              "              style=\"display:none;\">\n",
              "        \n",
              "  <svg xmlns=\"http://www.w3.org/2000/svg\" height=\"24px\"viewBox=\"0 0 24 24\"\n",
              "       width=\"24px\">\n",
              "    <path d=\"M0 0h24v24H0V0z\" fill=\"none\"/>\n",
              "    <path d=\"M18.56 5.44l.94 2.06.94-2.06 2.06-.94-2.06-.94-.94-2.06-.94 2.06-2.06.94zm-11 1L8.5 8.5l.94-2.06 2.06-.94-2.06-.94L8.5 2.5l-.94 2.06-2.06.94zm10 10l.94 2.06.94-2.06 2.06-.94-2.06-.94-.94-2.06-.94 2.06-2.06.94z\"/><path d=\"M17.41 7.96l-1.37-1.37c-.4-.4-.92-.59-1.43-.59-.52 0-1.04.2-1.43.59L10.3 9.45l-7.72 7.72c-.78.78-.78 2.05 0 2.83L4 21.41c.39.39.9.59 1.41.59.51 0 1.02-.2 1.41-.59l7.78-7.78 2.81-2.81c.8-.78.8-2.07 0-2.86zM5.41 20L4 18.59l7.72-7.72 1.47 1.35L5.41 20z\"/>\n",
              "  </svg>\n",
              "      </button>\n",
              "      \n",
              "  <style>\n",
              "    .colab-df-container {\n",
              "      display:flex;\n",
              "      flex-wrap:wrap;\n",
              "      gap: 12px;\n",
              "    }\n",
              "\n",
              "    .colab-df-convert {\n",
              "      background-color: #E8F0FE;\n",
              "      border: none;\n",
              "      border-radius: 50%;\n",
              "      cursor: pointer;\n",
              "      display: none;\n",
              "      fill: #1967D2;\n",
              "      height: 32px;\n",
              "      padding: 0 0 0 0;\n",
              "      width: 32px;\n",
              "    }\n",
              "\n",
              "    .colab-df-convert:hover {\n",
              "      background-color: #E2EBFA;\n",
              "      box-shadow: 0px 1px 2px rgba(60, 64, 67, 0.3), 0px 1px 3px 1px rgba(60, 64, 67, 0.15);\n",
              "      fill: #174EA6;\n",
              "    }\n",
              "\n",
              "    [theme=dark] .colab-df-convert {\n",
              "      background-color: #3B4455;\n",
              "      fill: #D2E3FC;\n",
              "    }\n",
              "\n",
              "    [theme=dark] .colab-df-convert:hover {\n",
              "      background-color: #434B5C;\n",
              "      box-shadow: 0px 1px 3px 1px rgba(0, 0, 0, 0.15);\n",
              "      filter: drop-shadow(0px 1px 2px rgba(0, 0, 0, 0.3));\n",
              "      fill: #FFFFFF;\n",
              "    }\n",
              "  </style>\n",
              "\n",
              "      <script>\n",
              "        const buttonEl =\n",
              "          document.querySelector('#df-de628618-fc63-422d-ba23-f60388be33c0 button.colab-df-convert');\n",
              "        buttonEl.style.display =\n",
              "          google.colab.kernel.accessAllowed ? 'block' : 'none';\n",
              "\n",
              "        async function convertToInteractive(key) {\n",
              "          const element = document.querySelector('#df-de628618-fc63-422d-ba23-f60388be33c0');\n",
              "          const dataTable =\n",
              "            await google.colab.kernel.invokeFunction('convertToInteractive',\n",
              "                                                     [key], {});\n",
              "          if (!dataTable) return;\n",
              "\n",
              "          const docLinkHtml = 'Like what you see? Visit the ' +\n",
              "            '<a target=\"_blank\" href=https://colab.research.google.com/notebooks/data_table.ipynb>data table notebook</a>'\n",
              "            + ' to learn more about interactive tables.';\n",
              "          element.innerHTML = '';\n",
              "          dataTable['output_type'] = 'display_data';\n",
              "          await google.colab.output.renderOutput(dataTable, element);\n",
              "          const docLink = document.createElement('div');\n",
              "          docLink.innerHTML = docLinkHtml;\n",
              "          element.appendChild(docLink);\n",
              "        }\n",
              "      </script>\n",
              "    </div>\n",
              "  </div>\n",
              "  "
            ],
            "text/plain": [
              "             count           mean            std         min      25%  \\\n",
              "img_id      4784.0     756.936037     445.884396    0.000000   354.75   \n",
              "img_width   4784.0    2794.278428     714.851079  842.000000  2448.00   \n",
              "img_height  4784.0    3234.358278     837.244672  474.000000  2448.00   \n",
              "cat_id      4784.0      34.079013      20.081707    0.000000    12.00   \n",
              "ann_id      4784.0    2391.949833    1381.264283    1.000000  1195.75   \n",
              "x           4784.0    1232.285117     703.739763   -1.000000   741.60   \n",
              "y           4784.0    1485.067894     826.005410   -1.316667   892.75   \n",
              "width       4784.0     331.434419     440.431739   10.000000    68.00   \n",
              "height      4784.0     320.246833     442.046602    4.000000    62.00   \n",
              "area        4784.0  150407.154132  485084.750277   55.500000  2142.00   \n",
              "\n",
              "                 50%        75%        max  \n",
              "img_id        743.00   1154.000     1499.0  \n",
              "img_width    2448.00   3264.000     6000.0  \n",
              "img_height   3264.00   4000.000     5312.0  \n",
              "cat_id         36.00     57.000       59.0  \n",
              "ann_id       2392.50   3588.250     4783.0  \n",
              "x            1150.00   1612.000     5573.0  \n",
              "y            1414.00   1961.250     5208.0  \n",
              "width         179.50    405.250     3758.0  \n",
              "height        159.00    387.000     3995.0  \n",
              "area        14244.75  75333.125  7328035.5  "
            ]
          },
          "metadata": {},
          "execution_count": 10
        }
      ]
    },
    {
      "cell_type": "code",
      "source": [
        "dtypes=pd.DataFrame(meta_df.dtypes,columns=[\"Data Type\"])\n",
        "dtypes[\"Unique Values\"]=meta_df.nunique()\n",
        "dtypes[\"Null Values\"]=meta_df.isnull().sum()\n",
        "dtypes[\"% null Values\"]=meta_df.isnull().sum()/len(meta_df)\n",
        "dtypes.style.background_gradient(cmap='Set2',axis=0)"
      ],
      "metadata": {
        "id": "8ynvRNZco-hK",
        "outputId": "56cdcdeb-4fa9-4d77-dfc4-9b17b7210cbe",
        "colab": {
          "base_uri": "https://localhost:8080/",
          "height": 457
        }
      },
      "id": "8ynvRNZco-hK",
      "execution_count": null,
      "outputs": [
        {
          "output_type": "execute_result",
          "data": {
            "text/html": [
              "<style type=\"text/css\">\n",
              "#T_e6f8f_row0_col1, #T_e6f8f_row3_col1, #T_e6f8f_row10_col1, #T_e6f8f_row11_col1 {\n",
              "  background-color: #8da0cb;\n",
              "  color: #f1f1f1;\n",
              "}\n",
              "#T_e6f8f_row0_col2, #T_e6f8f_row0_col3, #T_e6f8f_row1_col1, #T_e6f8f_row1_col2, #T_e6f8f_row1_col3, #T_e6f8f_row2_col1, #T_e6f8f_row2_col2, #T_e6f8f_row2_col3, #T_e6f8f_row3_col2, #T_e6f8f_row3_col3, #T_e6f8f_row4_col1, #T_e6f8f_row4_col2, #T_e6f8f_row4_col3, #T_e6f8f_row5_col1, #T_e6f8f_row5_col2, #T_e6f8f_row5_col3, #T_e6f8f_row6_col1, #T_e6f8f_row6_col2, #T_e6f8f_row6_col3, #T_e6f8f_row7_col2, #T_e6f8f_row7_col3, #T_e6f8f_row8_col2, #T_e6f8f_row8_col3, #T_e6f8f_row9_col2, #T_e6f8f_row9_col3, #T_e6f8f_row10_col2, #T_e6f8f_row10_col3, #T_e6f8f_row11_col2, #T_e6f8f_row11_col3, #T_e6f8f_row12_col2, #T_e6f8f_row12_col3 {\n",
              "  background-color: #66c2a5;\n",
              "  color: #000000;\n",
              "}\n",
              "#T_e6f8f_row7_col1, #T_e6f8f_row12_col1 {\n",
              "  background-color: #b3b3b3;\n",
              "  color: #000000;\n",
              "}\n",
              "#T_e6f8f_row8_col1, #T_e6f8f_row9_col1 {\n",
              "  background-color: #a6d854;\n",
              "  color: #000000;\n",
              "}\n",
              "</style>\n",
              "<table id=\"T_e6f8f_\" class=\"dataframe\">\n",
              "  <thead>\n",
              "    <tr>\n",
              "      <th class=\"blank level0\" >&nbsp;</th>\n",
              "      <th class=\"col_heading level0 col0\" >Data Type</th>\n",
              "      <th class=\"col_heading level0 col1\" >Unique Values</th>\n",
              "      <th class=\"col_heading level0 col2\" >Null Values</th>\n",
              "      <th class=\"col_heading level0 col3\" >% null Values</th>\n",
              "    </tr>\n",
              "  </thead>\n",
              "  <tbody>\n",
              "    <tr>\n",
              "      <th id=\"T_e6f8f_level0_row0\" class=\"row_heading level0 row0\" >img_id</th>\n",
              "      <td id=\"T_e6f8f_row0_col0\" class=\"data row0 col0\" >int64</td>\n",
              "      <td id=\"T_e6f8f_row0_col1\" class=\"data row0 col1\" >1500</td>\n",
              "      <td id=\"T_e6f8f_row0_col2\" class=\"data row0 col2\" >0</td>\n",
              "      <td id=\"T_e6f8f_row0_col3\" class=\"data row0 col3\" >0.000000</td>\n",
              "    </tr>\n",
              "    <tr>\n",
              "      <th id=\"T_e6f8f_level0_row1\" class=\"row_heading level0 row1\" >img_width</th>\n",
              "      <td id=\"T_e6f8f_row1_col0\" class=\"data row1 col0\" >int64</td>\n",
              "      <td id=\"T_e6f8f_row1_col1\" class=\"data row1 col1\" >44</td>\n",
              "      <td id=\"T_e6f8f_row1_col2\" class=\"data row1 col2\" >0</td>\n",
              "      <td id=\"T_e6f8f_row1_col3\" class=\"data row1 col3\" >0.000000</td>\n",
              "    </tr>\n",
              "    <tr>\n",
              "      <th id=\"T_e6f8f_level0_row2\" class=\"row_heading level0 row2\" >img_height</th>\n",
              "      <td id=\"T_e6f8f_row2_col0\" class=\"data row2 col0\" >int64</td>\n",
              "      <td id=\"T_e6f8f_row2_col1\" class=\"data row2 col1\" >46</td>\n",
              "      <td id=\"T_e6f8f_row2_col2\" class=\"data row2 col2\" >0</td>\n",
              "      <td id=\"T_e6f8f_row2_col3\" class=\"data row2 col3\" >0.000000</td>\n",
              "    </tr>\n",
              "    <tr>\n",
              "      <th id=\"T_e6f8f_level0_row3\" class=\"row_heading level0 row3\" >img_file</th>\n",
              "      <td id=\"T_e6f8f_row3_col0\" class=\"data row3 col0\" >object</td>\n",
              "      <td id=\"T_e6f8f_row3_col1\" class=\"data row3 col1\" >1500</td>\n",
              "      <td id=\"T_e6f8f_row3_col2\" class=\"data row3 col2\" >0</td>\n",
              "      <td id=\"T_e6f8f_row3_col3\" class=\"data row3 col3\" >0.000000</td>\n",
              "    </tr>\n",
              "    <tr>\n",
              "      <th id=\"T_e6f8f_level0_row4\" class=\"row_heading level0 row4\" >cat_id</th>\n",
              "      <td id=\"T_e6f8f_row4_col0\" class=\"data row4 col0\" >int64</td>\n",
              "      <td id=\"T_e6f8f_row4_col1\" class=\"data row4 col1\" >59</td>\n",
              "      <td id=\"T_e6f8f_row4_col2\" class=\"data row4 col2\" >0</td>\n",
              "      <td id=\"T_e6f8f_row4_col3\" class=\"data row4 col3\" >0.000000</td>\n",
              "    </tr>\n",
              "    <tr>\n",
              "      <th id=\"T_e6f8f_level0_row5\" class=\"row_heading level0 row5\" >cat_name</th>\n",
              "      <td id=\"T_e6f8f_row5_col0\" class=\"data row5 col0\" >object</td>\n",
              "      <td id=\"T_e6f8f_row5_col1\" class=\"data row5 col1\" >59</td>\n",
              "      <td id=\"T_e6f8f_row5_col2\" class=\"data row5 col2\" >0</td>\n",
              "      <td id=\"T_e6f8f_row5_col3\" class=\"data row5 col3\" >0.000000</td>\n",
              "    </tr>\n",
              "    <tr>\n",
              "      <th id=\"T_e6f8f_level0_row6\" class=\"row_heading level0 row6\" >supercategory</th>\n",
              "      <td id=\"T_e6f8f_row6_col0\" class=\"data row6 col0\" >object</td>\n",
              "      <td id=\"T_e6f8f_row6_col1\" class=\"data row6 col1\" >28</td>\n",
              "      <td id=\"T_e6f8f_row6_col2\" class=\"data row6 col2\" >0</td>\n",
              "      <td id=\"T_e6f8f_row6_col3\" class=\"data row6 col3\" >0.000000</td>\n",
              "    </tr>\n",
              "    <tr>\n",
              "      <th id=\"T_e6f8f_level0_row7\" class=\"row_heading level0 row7\" >ann_id</th>\n",
              "      <td id=\"T_e6f8f_row7_col0\" class=\"data row7 col0\" >int64</td>\n",
              "      <td id=\"T_e6f8f_row7_col1\" class=\"data row7 col1\" >4782</td>\n",
              "      <td id=\"T_e6f8f_row7_col2\" class=\"data row7 col2\" >0</td>\n",
              "      <td id=\"T_e6f8f_row7_col3\" class=\"data row7 col3\" >0.000000</td>\n",
              "    </tr>\n",
              "    <tr>\n",
              "      <th id=\"T_e6f8f_level0_row8\" class=\"row_heading level0 row8\" >x</th>\n",
              "      <td id=\"T_e6f8f_row8_col0\" class=\"data row8 col0\" >float64</td>\n",
              "      <td id=\"T_e6f8f_row8_col1\" class=\"data row8 col1\" >2414</td>\n",
              "      <td id=\"T_e6f8f_row8_col2\" class=\"data row8 col2\" >0</td>\n",
              "      <td id=\"T_e6f8f_row8_col3\" class=\"data row8 col3\" >0.000000</td>\n",
              "    </tr>\n",
              "    <tr>\n",
              "      <th id=\"T_e6f8f_level0_row9\" class=\"row_heading level0 row9\" >y</th>\n",
              "      <td id=\"T_e6f8f_row9_col0\" class=\"data row9 col0\" >float64</td>\n",
              "      <td id=\"T_e6f8f_row9_col1\" class=\"data row9 col1\" >2630</td>\n",
              "      <td id=\"T_e6f8f_row9_col2\" class=\"data row9 col2\" >0</td>\n",
              "      <td id=\"T_e6f8f_row9_col3\" class=\"data row9 col3\" >0.000000</td>\n",
              "    </tr>\n",
              "    <tr>\n",
              "      <th id=\"T_e6f8f_level0_row10\" class=\"row_heading level0 row10\" >width</th>\n",
              "      <td id=\"T_e6f8f_row10_col0\" class=\"data row10 col0\" >float64</td>\n",
              "      <td id=\"T_e6f8f_row10_col1\" class=\"data row10 col1\" >1291</td>\n",
              "      <td id=\"T_e6f8f_row10_col2\" class=\"data row10 col2\" >0</td>\n",
              "      <td id=\"T_e6f8f_row10_col3\" class=\"data row10 col3\" >0.000000</td>\n",
              "    </tr>\n",
              "    <tr>\n",
              "      <th id=\"T_e6f8f_level0_row11\" class=\"row_heading level0 row11\" >height</th>\n",
              "      <td id=\"T_e6f8f_row11_col0\" class=\"data row11 col0\" >float64</td>\n",
              "      <td id=\"T_e6f8f_row11_col1\" class=\"data row11 col1\" >1283</td>\n",
              "      <td id=\"T_e6f8f_row11_col2\" class=\"data row11 col2\" >0</td>\n",
              "      <td id=\"T_e6f8f_row11_col3\" class=\"data row11 col3\" >0.000000</td>\n",
              "    </tr>\n",
              "    <tr>\n",
              "      <th id=\"T_e6f8f_level0_row12\" class=\"row_heading level0 row12\" >area</th>\n",
              "      <td id=\"T_e6f8f_row12_col0\" class=\"data row12 col0\" >float64</td>\n",
              "      <td id=\"T_e6f8f_row12_col1\" class=\"data row12 col1\" >4555</td>\n",
              "      <td id=\"T_e6f8f_row12_col2\" class=\"data row12 col2\" >0</td>\n",
              "      <td id=\"T_e6f8f_row12_col3\" class=\"data row12 col3\" >0.000000</td>\n",
              "    </tr>\n",
              "  </tbody>\n",
              "</table>\n"
            ],
            "text/plain": [
              "<pandas.io.formats.style.Styler at 0x7f677c490790>"
            ]
          },
          "metadata": {},
          "execution_count": 21
        }
      ]
    },
    {
      "cell_type": "code",
      "source": [
        "plt.figure(figsize=(35,12))\n",
        "\n",
        "d=sns.countplot(data = meta_df, x = 'supercategory')\n",
        "\n",
        "plt.title('Distribution of Categories')\n",
        "plt.xlabel('Super Categories')\n",
        "plt.ylabel('Count')"
      ],
      "metadata": {
        "id": "o-eae27Vlp_Y",
        "outputId": "3f218bd1-cb81-4b07-ae37-0e3fbe4d983e",
        "colab": {
          "base_uri": "https://localhost:8080/",
          "height": 445
        }
      },
      "id": "o-eae27Vlp_Y",
      "execution_count": null,
      "outputs": [
        {
          "output_type": "execute_result",
          "data": {
            "text/plain": [
              "Text(0, 0.5, 'Count')"
            ]
          },
          "metadata": {},
          "execution_count": 20
        },
        {
          "output_type": "display_data",
          "data": {
            "image/png": "[encoded data removed]",
            "text/plain": [
              "<Figure size 2520x864 with 1 Axes>"
            ]
          },
          "metadata": {
            "needs_background": "light"
          }
        }
      ]
    },
    {
      "cell_type": "code",
      "execution_count": null,
      "id": "66f3825d",
      "metadata": {
        "id": "66f3825d"
      },
      "outputs": [],
      "source": [
        "def load_data():\n",
        "    # Import IMAGENET dataset\n",
        "    dataset = \n",
        "\n",
        "    # Data preparation\n",
        "    raw_X = dataset['data']\n",
        "    raw_Y = dataset['target']\n",
        "    return raw_X, raw_Y\n",
        "\n",
        "raw_X, raw_Y = load_data()"
      ]
    },
    {
      "cell_type": "code",
      "execution_count": null,
      "id": "3041f38e",
      "metadata": {
        "id": "3041f38e"
      },
      "outputs": [],
      "source": [
        "def clean_data(raw_X, raw_Y):\n",
        "    # TODO: clean and QA raw_X and raw_Y\n",
        "    # DO NOT CHANGE THE INPUTS OR OUTPUTS TO THIS FUNCTION\n",
        "\n",
        "    # X transformation\n",
        "    cleaned_X = raw_X / 127.5 - 1.0\n",
        "\n",
        "    # Y transformation\n",
        "    cleaned_Y = keras.utils.to_categorical(raw_Y)\n",
        "    \n",
        "    return cleaned_X, cleaned_Y\n",
        "\n",
        "cleaned_X, cleaned_Y = clean_data(raw_X, raw_Y)"
      ]
    },
    {
      "cell_type": "code",
      "execution_count": null,
      "id": "6169064b",
      "metadata": {
        "id": "6169064b"
      },
      "outputs": [],
      "source": [
        "### Data Split"
      ]
    },
    {
      "cell_type": "code",
      "execution_count": null,
      "id": "bdc8f570",
      "metadata": {
        "id": "bdc8f570"
      },
      "outputs": [],
      "source": [
        "# Upload TACO dataset\n",
        "\n",
        "\n",
        "\n",
        "\n",
        "\n",
        "\n",
        "\n"
      ]
    },
    {
      "cell_type": "code",
      "execution_count": null,
      "id": "9a27cd30",
      "metadata": {
        "id": "9a27cd30"
      },
      "outputs": [],
      "source": [
        "### Visulaizing the dataset"
      ]
    },
    {
      "cell_type": "code",
      "execution_count": null,
      "id": "2644fe61",
      "metadata": {
        "id": "2644fe61"
      },
      "outputs": [],
      "source": [
        "def viz_data(X_train):\n",
        "\n",
        "\n",
        "viz_data(X_train)"
      ]
    },
    {
      "cell_type": "code",
      "execution_count": null,
      "id": "718cb7a2",
      "metadata": {
        "id": "718cb7a2"
      },
      "outputs": [],
      "source": [
        "### Model\n",
        "#Classifiers.models_names()\n",
        "from classification_models.keras import Classifiers\n",
        "\n",
        "resnext101, preprocess_input = Classifiers.get('resnext101')\n",
        "#model = resnext101(include_top = False, input_shape=(224, 224, 3), weights='imagenet')\n"
      ]
    },
    {
      "cell_type": "code",
      "execution_count": null,
      "id": "f6be8569",
      "metadata": {
        "id": "f6be8569"
      },
      "outputs": [],
      "source": [
        "# build the model\n",
        "def build_model():\n",
        "    \n",
        "    model = Sequential()\n",
        "    model.add(Conv2D(32, (3, 3), activation='relu', input_shape=(28, 28, 1)))\n",
        "    model.add(MaxPooling2D((2, 2)))\n",
        "    model.add(Conv2D(64, (3, 3), activation='relu'))\n",
        "    model.add(Conv2D(64, (3, 3), activation='relu'))\n",
        "    model.add(MaxPooling2D((2, 2)))\n",
        "    model.add(Dropout(0.2))\n",
        "    model.add(Conv2D(128, (3, 3), activation='relu'))\n",
        "    model.add(MaxPooling2D((2, 2)))\n",
        "    model.add(Flatten())\n",
        "    model.add(Dense(100, activation='sigmoid'))\n",
        "    model.add(Dense(10, activation='softmax'))\n",
        "    \n",
        "    return model\n",
        "\n",
        "# compile the model\n",
        "def compile_model(model):\n",
        "    \n",
        "    model.compile(optimizer=\"adam\", loss='categorical_crossentropy', metrics=['accuracy'])\n",
        "\n",
        "    return model\n",
        "\n",
        "# train the model\n",
        "def train_model(model, X_train, Y_train, X_val, Y_val):\n",
        "       \n",
        "    history = model.fit(X_train, Y_train,\n",
        "          batch_size=128, epochs=21,\n",
        "          verbose=2,\n",
        "          validation_data=(X_val, Y_val))\n",
        "    \n",
        "    return model, history\n",
        "\n",
        "# Evaluate the model\n",
        "def eval_model(model, X_test, Y_test):\n",
        "   \n",
        "    test_loss, test_accuracy = model.evaluate(X_test, Y_test, verbose=2)\n",
        "\n",
        "    print('Test Accuracy: %.2f' % (test_accuracy*100))\n",
        "    print('Test loss: %.2f' % (test_loss))\n",
        "\n",
        "    return test_loss, test_accuracy"
      ]
    },
    {
      "cell_type": "code",
      "execution_count": null,
      "id": "d533b8fd",
      "metadata": {
        "id": "d533b8fd"
      },
      "outputs": [],
      "source": [
        "model.summary()"
      ]
    },
    {
      "cell_type": "code",
      "execution_count": null,
      "id": "7726f5b8",
      "metadata": {
        "id": "7726f5b8"
      },
      "outputs": [],
      "source": [
        "## Checking the Accuracy for our Model\n",
        "model = build_model()\n",
        "model = compile_model(model)\n",
        "model, history = train_model(model, X_train, Y_train, X_val, Y_val)\n",
        "test_loss, test_accuracy = eval_model(model, X_test, Y_test)"
      ]
    }
  ],
  "metadata": {
    "kernelspec": {
      "display_name": "Python 3",
      "language": "python",
      "name": "python3"
    },
    "language_info": {
      "codemirror_mode": {
        "name": "ipython",
        "version": 3
      },
      "file_extension": ".py",
      "mimetype": "text/x-python",
      "name": "python",
      "nbconvert_exporter": "python",
      "pygments_lexer": "ipython3",
      "version": "3.8.8"
    },
    "colab": {
      "name": "Copy of Code_for_TACOdataset.ipynb",
      "provenance": [],
      "collapsed_sections": [],
      "include_colab_link": true
    }
  },
  "nbformat": 4,
  "nbformat_minor": 5
}